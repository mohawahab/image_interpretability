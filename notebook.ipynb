{
  "cells": [
    {
      "cell_type": "code",
      "execution_count": 1,
      "metadata": {
        "colab": {
          "base_uri": "https://localhost:8080/"
        },
        "id": "GaPURni0AGXf",
        "outputId": "03b7a12a-e4a5-4482-8405-4f4ed8a214f8"
      },
      "outputs": [
        {
          "data": {
            "text/plain": [
              "device(type='cuda')"
            ]
          },
          "execution_count": 1,
          "metadata": {},
          "output_type": "execute_result"
        }
      ],
      "source": [
        "import torch\n",
        "import torch.nn as nn\n",
        "import torch.optim as optim\n",
        "from torchvision import datasets, transforms, models\n",
        "from torch.utils.data import DataLoader\n",
        "import matplotlib.pyplot as plt\n",
        "import torchvision\n",
        "import numpy as np\n",
        "from torchvision.datasets import STL10 as dataset\n",
        "import time\n",
        "from tqdm import tqdm\n",
        "import pickle\n",
        "device = torch.device(\"cuda\" if torch.cuda.is_available() else \"cpu\")\n",
        "import os\n",
        "import shutil\n",
        "import glob\n",
        "from torch.utils.data import Dataset, DataLoader\n",
        "\n",
        "device"
      ]
    },
    {
      "cell_type": "markdown",
      "metadata": {},
      "source": [
        "## Data"
      ]
    },
    {
      "cell_type": "code",
      "execution_count": 2,
      "metadata": {
        "id": "weeQqWe_M78v"
      },
      "outputs": [
        {
          "data": {
            "text/plain": [
              "(False,\n",
              " ['delta_datasets',\n",
              "  'train_delta_dataset.pkl',\n",
              "  'stl10_binary',\n",
              "  'models',\n",
              "  'loss_deltas',\n",
              "  'stl10_binary.tar.gz'])"
            ]
          },
          "execution_count": 2,
          "metadata": {},
          "output_type": "execute_result"
        }
      ],
      "source": [
        "data_path = os.path.expanduser('~/data')\n",
        "os.makedirs(data_path, exist_ok=True)\n",
        "download = 'stl10_binary.tar.gz' not in os.listdir(data_path)\n",
        "download, os.listdir(data_path)"
      ]
    },
    {
      "cell_type": "markdown",
      "metadata": {
        "id": "bNu6YFhq6VTt"
      },
      "source": [
        "### Transformers 🤖"
      ]
    },
    {
      "cell_type": "code",
      "execution_count": 3,
      "metadata": {
        "id": "-k45tNCg6guX"
      },
      "outputs": [],
      "source": [
        "class DualTransformDataset(Dataset):\n",
        "    def __init__(self, dataset, transform, transform_alpha):\n",
        "        \"\"\"\n",
        "        A custom dataset that applies two different transforms to each image.\n",
        "\n",
        "        Args:\n",
        "            dataset (Dataset): The base dataset to use (e.g., STL10, CIFAR-10).\n",
        "            transform (callable): The first transformation to apply.\n",
        "            transform_alpha (callable): The second transformation to apply.\n",
        "        \"\"\"\n",
        "        self.dataset = dataset\n",
        "        self.transform = transform\n",
        "        self.transform_alpha = transform_alpha\n",
        "\n",
        "    def __len__(self):\n",
        "        return len(self.dataset)\n",
        "\n",
        "    def __getitem__(self, idx):\n",
        "        image, label = self.dataset[idx]  # Get the original image and label\n",
        "        image1 = self.transform(image) if self.transform else image\n",
        "        image2 = self.transform_alpha(image) if self.transform_alpha else image\n",
        "        return image1, image2, label"
      ]
    },
    {
      "cell_type": "code",
      "execution_count": 4,
      "metadata": {
        "id": "Ax9IbJwaAH8z"
      },
      "outputs": [],
      "source": [
        "transform = transforms.Compose([\n",
        "    transforms.ToTensor(),\n",
        "    transforms.Normalize((0.5, 0.5, 0.5), (0.5, 0.5, 0.5))  # Normalize with mean and std\n",
        "])\n",
        "\n",
        "transform_alpha = transforms.Compose([\n",
        "    transforms.ToTensor(),  # Convert to tensor\n",
        "    transforms.Lambda(lambda x: x + 0.1 * torch.randn_like(x)),  # Increase Gaussian noise (was 0.01)\n",
        "    transforms.GaussianBlur(kernel_size=5, sigma=(2.0, 5.0)),  # Apply Gaussian blur\n",
        "    transforms.Normalize((0.5, 0.5, 0.5), (0.5, 0.5, 0.5))  # Normalize\n",
        "])"
      ]
    },
    {
      "cell_type": "markdown",
      "metadata": {
        "id": "7kdZLw7Y6RYf"
      },
      "source": [
        "### Data loaders"
      ]
    },
    {
      "cell_type": "code",
      "execution_count": 5,
      "metadata": {
        "id": "C_WYW0MyAQ8J"
      },
      "outputs": [],
      "source": [
        "# Download and load the training dataset\n",
        "train_dataset = datasets.STL10(root=data_path, split='train', download=download, transform=transform)\n",
        "train_loader = DataLoader(train_dataset, batch_size=64, shuffle=False)\n",
        "\n",
        "test_dataset = datasets.STL10(root=data_path, split='test', download=download, transform=transform)\n",
        "test_loader = DataLoader(test_dataset, batch_size=64, shuffle=False)"
      ]
    },
    {
      "cell_type": "code",
      "execution_count": 6,
      "metadata": {
        "id": "_ox44KRRAwX8"
      },
      "outputs": [],
      "source": [
        "\n",
        "\n",
        "# Load the CIFAR-10 dataset with the transformations\n",
        "train_dataset_alpha = datasets.STL10(root=data_path, split='train', download=False, transform=transform_alpha)\n",
        "train_loader_alpha = DataLoader(train_dataset_alpha, batch_size=64, shuffle=False)\n",
        "\n",
        "\n",
        "# Download and load the testing dataset\n",
        "test_dataset_alpha = datasets.STL10(root=data_path, split='test', download=False, transform=transform_alpha)\n",
        "test_loader_alpha = DataLoader(test_dataset_alpha, batch_size=64, shuffle=False)\n"
      ]
    },
    {
      "cell_type": "code",
      "execution_count": 7,
      "metadata": {
        "id": "j8t14ZCw68wE"
      },
      "outputs": [],
      "source": [
        "train_nont_dataset = datasets.STL10(root=data_path, split='train', download=False, transform=None)\n",
        "train_dual_dataset = DualTransformDataset(train_nont_dataset, transform, transform_alpha)\n",
        "train_dual_loader = DataLoader(train_dual_dataset, batch_size=64, shuffle=True, num_workers=4)\n",
        "\n",
        "test_nont_dataset = datasets.STL10(root=data_path, split='test', download=False, transform=None)\n",
        "test_dual_dataset = DualTransformDataset(test_nont_dataset, transform, transform_alpha)\n",
        "test_dual_loader = DataLoader(test_dual_dataset, batch_size=64, shuffle=True, num_workers=4)\n",
        "\n"
      ]
    },
    {
      "cell_type": "markdown",
      "metadata": {
        "id": "ylr8pCQq669S"
      },
      "source": [
        "### Show images"
      ]
    },
    {
      "cell_type": "code",
      "execution_count": 8,
      "metadata": {
        "id": "jyywc5lx_9ui"
      },
      "outputs": [],
      "source": [
        "# Display a few sample images from the training dataset\n",
        "def show_images(data_loader):\n",
        "    # Get a batch of images\n",
        "    data_iter = iter(data_loader)\n",
        "    images, labels = next(data_iter)\n",
        "\n",
        "    # Unnormalize and plot\n",
        "    images = images / 2 + 0.5  # Unnormalize\n",
        "    grid = torchvision.utils.make_grid(images[:8])  # Take first 8 images\n",
        "    plt.figure(figsize=(10, 4))\n",
        "    plt.imshow(grid.permute(1, 2, 0))  # Permute dimensions for plotting\n",
        "    plt.axis('off')\n",
        "    plt.show()\n",
        "\n",
        "# Show some images"
      ]
    },
    {
      "cell_type": "code",
      "execution_count": 9,
      "metadata": {
        "id": "-0DTQyC3BK7W"
      },
      "outputs": [],
      "source": [
        "def imshow(img):\n",
        "    img = img / 2 + 0.5  # Unnormalize\n",
        "    npimg = img.numpy()\n",
        "    plt.figure(figsize=(10, 4))\n",
        "    plt.imshow(np.transpose(npimg, (1, 2, 0)))  # Convert CHW to HWC for plotting\n",
        "    plt.axis('off')\n",
        "    plt.show()\n"
      ]
    },
    {
      "cell_type": "code",
      "execution_count": 10,
      "metadata": {
        "colab": {
          "base_uri": "https://localhost:8080/",
          "height": 710
        },
        "id": "WF9sSAnRCCm9",
        "outputId": "47b0c7ad-f620-430e-c947-a29509168248"
      },
      "outputs": [
        {
          "data": {
            "image/png": "[encoded data removed]",
            "text/plain": [
              "<Figure size 1000x400 with 1 Axes>"
            ]
          },
          "metadata": {},
          "output_type": "display_data"
        },
        {
          "data": {
            "image/png": "[encoded data removed]",
            "text/plain": [
              "<Figure size 1000x400 with 1 Axes>"
            ]
          },
          "metadata": {},
          "output_type": "display_data"
        }
      ],
      "source": [
        "# images, _ = next(iter(train_loader))\n",
        "# images_alpha, _ = next(iter(train_loader_alpha))\n",
        "images,images_alpha, _ = next(iter(train_dual_loader))\n",
        "i = 11\n",
        "imshow(images[i])\n",
        "imshow(images_alpha[i])\n"
      ]
    },
    {
      "cell_type": "markdown",
      "metadata": {
        "id": "nAPSLLqFIO4b"
      },
      "source": [
        "## Train"
      ]
    },
    {
      "cell_type": "code",
      "execution_count": 27,
      "metadata": {
        "id": "KfdIsWjPIQY9"
      },
      "outputs": [],
      "source": [
        "def get_new_model():\n",
        "  model = models.resnet18(weights=True)\n",
        "\n",
        "  # Modify the fully connected layer to match STL10 classes\n",
        "  num_features = model.fc.in_features\n",
        "  model.fc = nn.Linear(num_features, 10)  # STL10 has 10 classes\n",
        "\n",
        "  # Move the model to the appropriate device (GPU if available)\n",
        "  device = torch.device(\"cuda\" if torch.cuda.is_available() else \"cpu\")\n",
        "  model = model.to(device)\n",
        "  criterion = nn.CrossEntropyLoss()\n",
        "  optimizer = optim.Adam(model.parameters(), lr=0.001)\n",
        "  return {'model': model, 'criterion': criterion, 'optimizer': optimizer}"
      ]
    },
    {
      "cell_type": "code",
      "execution_count": 28,
      "metadata": {
        "id": "lEyCVJTqIjdO"
      },
      "outputs": [],
      "source": [
        "def train_model(model, train_loader, criterion, optimizer, num_epochs=10):\n",
        "    model.train()  # Set the model to training mode\n",
        "    for epoch in range(num_epochs):\n",
        "        running_loss = 0.0\n",
        "        start_time = time.time()\n",
        "\n",
        "        # Initialize tqdm progress bar\n",
        "        progress_bar = tqdm(enumerate(train_loader), total=len(train_loader), desc=f\"Epoch {epoch+1}/{num_epochs}\")\n",
        "\n",
        "        for batch_idx, (inputs, labels) in progress_bar:\n",
        "            inputs, labels = inputs.to(device), labels.to(device)\n",
        "\n",
        "            # Zero the parameter gradients\n",
        "            optimizer.zero_grad()\n",
        "\n",
        "            # Forward pass\n",
        "            outputs = model(inputs)\n",
        "            loss = criterion(outputs, labels)\n",
        "\n",
        "            # Backward pass and optimize\n",
        "            loss.backward()\n",
        "            optimizer.step()\n",
        "\n",
        "            # Update running loss\n",
        "            running_loss += loss.item()\n",
        "\n",
        "            # Update tqdm bar with current loss\n",
        "            progress_bar.set_postfix(loss=loss.item())\n",
        "\n",
        "        epoch_loss = running_loss / len(train_loader)\n",
        "        print(f\"Epoch {epoch+1}/{num_epochs}, Loss: {epoch_loss:.4f}, Time: {time.time() - start_time:.2f}s\")\n",
        "\n",
        "    print(\"Training complete\")"
      ]
    },
    {
      "cell_type": "code",
      "execution_count": 47,
      "metadata": {},
      "outputs": [],
      "source": [
        "def get_losses(model, dataloader, criterion):\n",
        "    model.eval()  # Set the model to evaluation mode\n",
        "    losses = []\n",
        "    for inputs, labels in tqdm(dataloader):\n",
        "        inputs, labels = inputs.to(device), labels.to(device)\n",
        "        with torch.no_grad():\n",
        "            outputs = model(inputs)\n",
        "            loss = criterion(outputs, labels)\n",
        "            losses.append(loss.item())\n",
        "\n",
        "    losses = np.array(losses)\n",
        "    return {'losses': losses, 'mean': np.mean(losses), 'std': np.std(losses)}\n"
      ]
    },
    {
      "cell_type": "code",
      "execution_count": 29,
      "metadata": {
        "colab": {
          "base_uri": "https://localhost:8080/"
        },
        "id": "viq5gwswIqdp",
        "outputId": "7c17d74d-ca77-4ff7-8356-37c7368b7836"
      },
      "outputs": [
        {
          "name": "stderr",
          "output_type": "stream",
          "text": [
            "/home/paperspace/image_interpretability/venv/lib/python3.10/site-packages/torchvision/models/_utils.py:208: UserWarning: The parameter 'pretrained' is deprecated since 0.13 and may be removed in the future, please use 'weights' instead.\n",
            "  warnings.warn(\n",
            "/home/paperspace/image_interpretability/venv/lib/python3.10/site-packages/torchvision/models/_utils.py:223: UserWarning: Arguments other than a weight enum or `None` for 'weights' are deprecated since 0.13 and may be removed in the future. The current behavior is equivalent to passing `weights=ResNet18_Weights.IMAGENET1K_V1`. You can also use `weights=ResNet18_Weights.DEFAULT` to get the most up-to-date weights.\n",
            "  warnings.warn(msg)\n"
          ]
        }
      ],
      "source": [
        "model_dict = get_new_model()\n",
        "model = model_dict['model']\n",
        "criterion = model_dict['criterion']\n",
        "optimizer = model_dict['optimizer']\n",
        "\n",
        "model_alpha_dict = get_new_model()\n",
        "model_alpha = model_alpha_dict['model']\n",
        "criterion_alpha = model_alpha_dict['criterion']\n",
        "optimizer_alpha = model_alpha_dict['optimizer']"
      ]
    },
    {
      "cell_type": "code",
      "execution_count": 37,
      "metadata": {
        "colab": {
          "base_uri": "https://localhost:8080/"
        },
        "id": "XvIOftEqRpt6",
        "outputId": "ae77662d-cd96-4aaf-8c23-97cc91ea56a5"
      },
      "outputs": [],
      "source": [
        "def run_train(train_loader, model_dict=None, name='model', save_path=data_path, num_epochs=10):\n",
        "    if model_dict is None:\n",
        "        model_dict = get_new_model()\n",
        "\n",
        "    train_model(model_dict['model'], train_loader_alpha, model_dict['criterion'], model_dict['optimizer'], num_epochs=num_epochs)\n",
        "    model_dict['losses'] = model_dict.get('losses') or {}\n",
        "    model_dict['losses']['train'] = get_losses(model_dict['model'], train_loader, model_dict['criterion'])\n",
        "    if save_path:\n",
        "        with open(f\"{data_path}/models/{name}_dict_{round(time.time())}.pkl\", \"wb\") as f:\n",
        "            pickle.dump(model_dict, f)\n",
        "            shutil.copy(f.name, f\"{data_path}/models/{name}_dict.pkl\")\n",
        "    \n",
        "    return model_dict"
      ]
    },
    {
      "cell_type": "code",
      "execution_count": 39,
      "metadata": {},
      "outputs": [
        {
          "name": "stderr",
          "output_type": "stream",
          "text": [
            "Epoch 1/10: 100%|██████████| 79/79 [00:43<00:00,  1.82it/s, loss=1.89] \n"
          ]
        },
        {
          "name": "stdout",
          "output_type": "stream",
          "text": [
            "Epoch 1/10, Loss: 1.0825, Time: 43.35s\n"
          ]
        },
        {
          "name": "stderr",
          "output_type": "stream",
          "text": [
            "Epoch 2/10: 100%|██████████| 79/79 [00:40<00:00,  1.97it/s, loss=0.914]\n"
          ]
        },
        {
          "name": "stdout",
          "output_type": "stream",
          "text": [
            "Epoch 2/10, Loss: 0.6999, Time: 40.02s\n"
          ]
        },
        {
          "name": "stderr",
          "output_type": "stream",
          "text": [
            "Epoch 3/10: 100%|██████████| 79/79 [00:35<00:00,  2.22it/s, loss=0.074]\n"
          ]
        },
        {
          "name": "stdout",
          "output_type": "stream",
          "text": [
            "Epoch 3/10, Loss: 0.4409, Time: 35.67s\n"
          ]
        },
        {
          "name": "stderr",
          "output_type": "stream",
          "text": [
            "Epoch 4/10: 100%|██████████| 79/79 [00:38<00:00,  2.06it/s, loss=0.086]\n"
          ]
        },
        {
          "name": "stdout",
          "output_type": "stream",
          "text": [
            "Epoch 4/10, Loss: 0.3521, Time: 38.34s\n"
          ]
        },
        {
          "name": "stderr",
          "output_type": "stream",
          "text": [
            "Epoch 5/10: 100%|██████████| 79/79 [00:36<00:00,  2.15it/s, loss=0.0434]\n"
          ]
        },
        {
          "name": "stdout",
          "output_type": "stream",
          "text": [
            "Epoch 5/10, Loss: 0.3010, Time: 36.69s\n"
          ]
        },
        {
          "name": "stderr",
          "output_type": "stream",
          "text": [
            "Epoch 6/10: 100%|██████████| 79/79 [00:39<00:00,  1.98it/s, loss=0.0223]\n"
          ]
        },
        {
          "name": "stdout",
          "output_type": "stream",
          "text": [
            "Epoch 6/10, Loss: 0.2106, Time: 39.93s\n"
          ]
        },
        {
          "name": "stderr",
          "output_type": "stream",
          "text": [
            "Epoch 7/10: 100%|██████████| 79/79 [00:37<00:00,  2.09it/s, loss=0.0139]\n"
          ]
        },
        {
          "name": "stdout",
          "output_type": "stream",
          "text": [
            "Epoch 7/10, Loss: 0.1478, Time: 37.84s\n"
          ]
        },
        {
          "name": "stderr",
          "output_type": "stream",
          "text": [
            "Epoch 8/10: 100%|██████████| 79/79 [00:38<00:00,  2.06it/s, loss=0.00129]\n"
          ]
        },
        {
          "name": "stdout",
          "output_type": "stream",
          "text": [
            "Epoch 8/10, Loss: 0.1208, Time: 38.41s\n"
          ]
        },
        {
          "name": "stderr",
          "output_type": "stream",
          "text": [
            "Epoch 9/10: 100%|██████████| 79/79 [00:37<00:00,  2.08it/s, loss=0.00229]\n"
          ]
        },
        {
          "name": "stdout",
          "output_type": "stream",
          "text": [
            "Epoch 9/10, Loss: 0.1069, Time: 37.99s\n"
          ]
        },
        {
          "name": "stderr",
          "output_type": "stream",
          "text": [
            "Epoch 10/10: 100%|██████████| 79/79 [00:38<00:00,  2.03it/s, loss=0.00154]\n"
          ]
        },
        {
          "name": "stdout",
          "output_type": "stream",
          "text": [
            "Epoch 10/10, Loss: 0.1026, Time: 38.86s\n",
            "Training complete\n"
          ]
        },
        {
          "name": "stderr",
          "output_type": "stream",
          "text": [
            "100%|██████████| 79/79 [00:07<00:00, 10.35it/s]\n"
          ]
        }
      ],
      "source": [
        "model_dict = run_train(train_loader, name='model', num_epochs=10)"
      ]
    },
    {
      "cell_type": "code",
      "execution_count": 40,
      "metadata": {},
      "outputs": [
        {
          "name": "stderr",
          "output_type": "stream",
          "text": [
            "/home/paperspace/image_interpretability/venv/lib/python3.10/site-packages/torchvision/models/_utils.py:208: UserWarning: The parameter 'pretrained' is deprecated since 0.13 and may be removed in the future, please use 'weights' instead.\n",
            "  warnings.warn(\n",
            "/home/paperspace/image_interpretability/venv/lib/python3.10/site-packages/torchvision/models/_utils.py:223: UserWarning: Arguments other than a weight enum or `None` for 'weights' are deprecated since 0.13 and may be removed in the future. The current behavior is equivalent to passing `weights=ResNet18_Weights.IMAGENET1K_V1`. You can also use `weights=ResNet18_Weights.DEFAULT` to get the most up-to-date weights.\n",
            "  warnings.warn(msg)\n",
            "Epoch 1/10: 100%|██████████| 79/79 [00:39<00:00,  2.00it/s, loss=1.57] \n"
          ]
        },
        {
          "name": "stdout",
          "output_type": "stream",
          "text": [
            "Epoch 1/10, Loss: 1.1436, Time: 39.62s\n"
          ]
        },
        {
          "name": "stderr",
          "output_type": "stream",
          "text": [
            "Epoch 2/10: 100%|██████████| 79/79 [00:38<00:00,  2.07it/s, loss=1.13] \n"
          ]
        },
        {
          "name": "stdout",
          "output_type": "stream",
          "text": [
            "Epoch 2/10, Loss: 0.6791, Time: 38.12s\n"
          ]
        },
        {
          "name": "stderr",
          "output_type": "stream",
          "text": [
            "Epoch 3/10: 100%|██████████| 79/79 [00:36<00:00,  2.17it/s, loss=0.0863]\n"
          ]
        },
        {
          "name": "stdout",
          "output_type": "stream",
          "text": [
            "Epoch 3/10, Loss: 0.4561, Time: 36.49s\n"
          ]
        },
        {
          "name": "stderr",
          "output_type": "stream",
          "text": [
            "Epoch 4/10: 100%|██████████| 79/79 [00:38<00:00,  2.03it/s, loss=0.0168]\n"
          ]
        },
        {
          "name": "stdout",
          "output_type": "stream",
          "text": [
            "Epoch 4/10, Loss: 0.3583, Time: 38.88s\n"
          ]
        },
        {
          "name": "stderr",
          "output_type": "stream",
          "text": [
            "Epoch 5/10: 100%|██████████| 79/79 [00:38<00:00,  2.04it/s, loss=0.0257]\n"
          ]
        },
        {
          "name": "stdout",
          "output_type": "stream",
          "text": [
            "Epoch 5/10, Loss: 0.2474, Time: 38.79s\n"
          ]
        },
        {
          "name": "stderr",
          "output_type": "stream",
          "text": [
            "Epoch 6/10: 100%|██████████| 79/79 [00:37<00:00,  2.11it/s, loss=0.00626]\n"
          ]
        },
        {
          "name": "stdout",
          "output_type": "stream",
          "text": [
            "Epoch 6/10, Loss: 0.1997, Time: 37.42s\n"
          ]
        },
        {
          "name": "stderr",
          "output_type": "stream",
          "text": [
            "Epoch 7/10: 100%|██████████| 79/79 [00:35<00:00,  2.21it/s, loss=0.011] \n"
          ]
        },
        {
          "name": "stdout",
          "output_type": "stream",
          "text": [
            "Epoch 7/10, Loss: 0.1707, Time: 35.81s\n"
          ]
        },
        {
          "name": "stderr",
          "output_type": "stream",
          "text": [
            "Epoch 8/10: 100%|██████████| 79/79 [00:35<00:00,  2.24it/s, loss=0.0187]\n"
          ]
        },
        {
          "name": "stdout",
          "output_type": "stream",
          "text": [
            "Epoch 8/10, Loss: 0.1205, Time: 35.27s\n"
          ]
        },
        {
          "name": "stderr",
          "output_type": "stream",
          "text": [
            "Epoch 9/10: 100%|██████████| 79/79 [00:36<00:00,  2.19it/s, loss=0.0052]\n"
          ]
        },
        {
          "name": "stdout",
          "output_type": "stream",
          "text": [
            "Epoch 9/10, Loss: 0.1009, Time: 36.04s\n"
          ]
        },
        {
          "name": "stderr",
          "output_type": "stream",
          "text": [
            "Epoch 10/10: 100%|██████████| 79/79 [00:38<00:00,  2.04it/s, loss=0.00369]\n"
          ]
        },
        {
          "name": "stdout",
          "output_type": "stream",
          "text": [
            "Epoch 10/10, Loss: 0.1233, Time: 38.80s\n",
            "Training complete\n"
          ]
        },
        {
          "name": "stderr",
          "output_type": "stream",
          "text": [
            "100%|██████████| 79/79 [00:37<00:00,  2.13it/s]\n"
          ]
        }
      ],
      "source": [
        "model_alpha_dict = run_train(train_loader_alpha, name='model_alpha', num_epochs=10)"
      ]
    },
    {
      "cell_type": "markdown",
      "metadata": {
        "id": "hJrJHV47bLtE"
      },
      "source": [
        "## Eval"
      ]
    },
    {
      "cell_type": "markdown",
      "metadata": {
        "id": "jkkH90jKyk5W"
      },
      "source": [
        "### Reload models"
      ]
    },
    {
      "cell_type": "code",
      "execution_count": 11,
      "metadata": {},
      "outputs": [
        {
          "name": "stdout",
          "output_type": "stream",
          "text": [
            "Loaded model model from: /home/paperspace/data/models/model_dict.pkl\n",
            "Loaded model_alpha model from: /home/paperspace/data/models/model_alpha_dict.pkl\n"
          ]
        }
      ],
      "source": [
        "# Load the models\n",
        "model_names = ['model', 'model_alpha']\n",
        "models = {}\n",
        "for model_name in model_names:\n",
        "    try:\n",
        "        with open(f\"{data_path}/models/{model_name}_dict.pkl\", \"rb\") as f:\n",
        "            models[model_name] = pickle.load(f)\n",
        "        print(f\"Loaded {model_name} model from: {data_path}/models/{model_name}_dict.pkl\")\n",
        "    except FileNotFoundError:\n",
        "        print(f\"Error: Could not find {model_name} model file in {data_path}/models/\")\n",
        "    except Exception as e:\n",
        "        print(f\"An error occurred while loading {model_name} model: {e}\")"
      ]
    },
    {
      "cell_type": "code",
      "execution_count": 29,
      "metadata": {},
      "outputs": [],
      "source": [
        "model_dict = models['model']\n",
        "model_alpha_dict = models['model_alpha']\n",
        "model, model_alpha = model_dict['model'], model_alpha_dict['model']"
      ]
    },
    {
      "cell_type": "markdown",
      "metadata": {
        "id": "Ni0C-mV2ypSf"
      },
      "source": [
        "### Calculate Losses"
      ]
    },
    {
      "cell_type": "code",
      "execution_count": 76,
      "metadata": {},
      "outputs": [],
      "source": [
        "def calculate_loss_deltas(data_loader, data_loader_alpha, model, model_alpha, criterion):\n",
        "    model.eval()  # Set both models to evaluation mode\n",
        "    model_alpha.eval()\n",
        "\n",
        "    loss_deltas = []\n",
        "    i = 0\n",
        "    for (inputs, labels), (inputs_alpha, _) in tqdm(zip(data_loader, data_loader_alpha)):\n",
        "        inputs, labels = inputs.to(device), labels.to(device)\n",
        "        inputs_alpha = inputs_alpha.to(device)\n",
        "\n",
        "        with torch.no_grad():\n",
        "            outputs = model(inputs)\n",
        "            loss = criterion(outputs, labels)\n",
        "\n",
        "            outputs_alpha = model_alpha(inputs_alpha)\n",
        "            loss_alpha = criterion(outputs_alpha, labels)\n",
        "\n",
        "            loss_delta = loss_alpha - loss\n",
        "            loss_deltas.append(loss_delta)\n",
        "            i += 1\n",
        "    loss_deltas = torch.cat(loss_deltas, dim=0)\n",
        "    return loss_deltas"
      ]
    },
    {
      "cell_type": "code",
      "execution_count": 80,
      "metadata": {},
      "outputs": [
        {
          "name": "stderr",
          "output_type": "stream",
          "text": [
            "/home/paperspace/image_interpretability/venv/lib/python3.10/site-packages/torch/nn/_reduction.py:51: UserWarning: size_average and reduce args will be deprecated, please use reduction='none' instead.\n",
            "  warnings.warn(warning.format(ret))\n",
            "125it [01:38,  1.26it/s]\n"
          ]
        }
      ],
      "source": [
        "# Calculate loss deltas for train and test data loaders\n",
        "train_loss_deltas = calculate_loss_deltas(train_loader, train_loader_alpha, model_dict['model'], model_alpha_dict['model'], nn.CrossEntropyLoss(reduce=False))\n",
        "test_loss_deltas = calculate_loss_deltas(test_loader, test_loader_alpha, model_dict['model'], model_alpha_dict['model'], nn.CrossEntropyLoss(reduce=False))"
      ]
    },
    {
      "cell_type": "code",
      "execution_count": 88,
      "metadata": {},
      "outputs": [
        {
          "name": "stdout",
          "output_type": "stream",
          "text": [
            "Saved loss deltas to /home/paperspace/data/loss_deltas/loss_deltas.pkl\n"
          ]
        }
      ],
      "source": [
        "# Save the loss deltas\n",
        "deltas = {\n",
        "    'train_loss_deltas': train_loss_deltas,\n",
        "    'test_loss_deltas': test_loss_deltas\n",
        "}\n",
        "\n",
        "deltas_path = os.path.join(data_path, 'loss_deltas')\n",
        "os.makedirs(deltas_path, exist_ok=True)\n",
        "\n",
        "with open(f\"{deltas_path}/loss_deltas.pkl\", \"wb\") as f:\n",
        "    pickle.dump(deltas, f)\n",
        "    print(f\"Saved loss deltas to {deltas_path}/loss_deltas.pkl\")"
      ]
    },
    {
      "cell_type": "markdown",
      "metadata": {},
      "source": [
        "# Delta"
      ]
    },
    {
      "cell_type": "markdown",
      "metadata": {},
      "source": [
        "### Delta Dataloader"
      ]
    },
    {
      "cell_type": "code",
      "execution_count": 89,
      "metadata": {},
      "outputs": [],
      "source": [
        "# Check if loss deltas are already in memory\n",
        "if 'train_loss_deltas' not in globals() or 'test_loss_deltas' not in globals():\n",
        "    # Load the loss deltas from disk\n",
        "    deltas_path = os.path.join(data_path, 'loss_deltas', 'loss_deltas.pkl')\n",
        "    with open(deltas_path, \"rb\") as f:\n",
        "        deltas = pickle.load(f)\n",
        "        train_loss_deltas = deltas['train_loss_deltas']\n",
        "        test_loss_deltas = deltas['test_loss_deltas']\n",
        "        print(f\"Loaded loss deltas from {deltas_path}\")"
      ]
    },
    {
      "cell_type": "code",
      "execution_count": 90,
      "metadata": {},
      "outputs": [],
      "source": [
        "class DeltaLossDataset(Dataset):\n",
        "    def __init__(self, dataset, dataset_alpha, loss_deltas):\n",
        "        self.dataset = dataset\n",
        "        self.dataset_alpha = dataset_alpha\n",
        "        self.loss_deltas = loss_deltas\n",
        "\n",
        "        # Ensure the length of loss_deltas matches the length of the dataset\n",
        "        assert len(self.loss_deltas) == len(self.dataset), \"Length of loss_deltas must match the length of the dataset\"\n",
        "\n",
        "    def __len__(self):\n",
        "        return len(self.dataset)\n",
        "\n",
        "    def __getitem__(self, idx):\n",
        "        image, _ = self.dataset[idx]\n",
        "        image_alpha, _ = self.dataset_alpha[idx]\n",
        "        loss_delta = self.loss_deltas[idx]\n",
        "        return image, image_alpha, loss_delta\n"
      ]
    },
    {
      "cell_type": "code",
      "execution_count": 96,
      "metadata": {},
      "outputs": [],
      "source": [
        "\n",
        "# Create new data loaders with delta loss as the label\n",
        "train_delta_dataset = DeltaLossDataset(train_dataset, train_dataset_alpha, train_loss_deltas)\n",
        "test_delta_dataset = DeltaLossDataset(test_dataset, test_dataset_alpha, test_loss_deltas)\n"
      ]
    },
    {
      "cell_type": "code",
      "execution_count": 99,
      "metadata": {},
      "outputs": [],
      "source": [
        "# Create data loaders for the delta datasets\n",
        "train_delta_loader = DataLoader(train_delta_dataset, batch_size=128, shuffle=True, num_workers=4)\n",
        "test_delta_loader = DataLoader(test_delta_dataset, batch_size=128, shuffle=False, num_workers=4)"
      ]
    },
    {
      "cell_type": "code",
      "execution_count": 102,
      "metadata": {},
      "outputs": [
        {
          "name": "stdout",
          "output_type": "stream",
          "text": [
            "env: CUDA_LAUNCH_BLOCKING=1\n"
          ]
        }
      ],
      "source": [
        "%env CUDA_LAUNCH_BLOCKING=1"
      ]
    },
    {
      "cell_type": "code",
      "execution_count": 105,
      "metadata": {},
      "outputs": [
        {
          "ename": "RuntimeError",
          "evalue": "Caught RuntimeError in DataLoader worker process 0.\nOriginal Traceback (most recent call last):\n  File \"/home/paperspace/image_interpretability/venv/lib/python3.10/site-packages/torch/utils/data/_utils/worker.py\", line 351, in _worker_loop\n    data = fetcher.fetch(index)  # type: ignore[possibly-undefined]\n  File \"/home/paperspace/image_interpretability/venv/lib/python3.10/site-packages/torch/utils/data/_utils/fetch.py\", line 52, in fetch\n    data = [self.dataset[idx] for idx in possibly_batched_index]\n  File \"/home/paperspace/image_interpretability/venv/lib/python3.10/site-packages/torch/utils/data/_utils/fetch.py\", line 52, in <listcomp>\n    data = [self.dataset[idx] for idx in possibly_batched_index]\n  File \"/tmp/ipykernel_2216/2043752173.py\", line 16, in __getitem__\n    loss_delta = self.loss_deltas[idx]\nRuntimeError: CUDA error: initialization error\nCompile with `TORCH_USE_CUDA_DSA` to enable device-side assertions.\n\n",
          "output_type": "error",
          "traceback": [
            "\u001b[0;31m---------------------------------------------------------------------------\u001b[0m",
            "\u001b[0;31mRuntimeError\u001b[0m                              Traceback (most recent call last)",
            "Cell \u001b[0;32mIn[105], line 17\u001b[0m\n\u001b[1;32m     14\u001b[0m             \u001b[38;5;28;01mbreak\u001b[39;00m\n\u001b[1;32m     16\u001b[0m \u001b[38;5;66;03m# Dry run the train delta loader\u001b[39;00m\n\u001b[0;32m---> 17\u001b[0m \u001b[43mdry_run_dataloader\u001b[49m\u001b[43m(\u001b[49m\u001b[43mtrain_delta_loader\u001b[49m\u001b[43m,\u001b[49m\u001b[43m \u001b[49m\u001b[43mnum_batches\u001b[49m\u001b[38;5;241;43m=\u001b[39;49m\u001b[38;5;241;43m3\u001b[39;49m\u001b[43m)\u001b[49m\n",
            "Cell \u001b[0;32mIn[105], line 8\u001b[0m, in \u001b[0;36mdry_run_dataloader\u001b[0;34m(dataloader, num_batches)\u001b[0m\n\u001b[1;32m      7\u001b[0m \u001b[38;5;28;01mdef\u001b[39;00m\u001b[38;5;250m \u001b[39m\u001b[38;5;21mdry_run_dataloader\u001b[39m(dataloader, num_batches\u001b[38;5;241m=\u001b[39m\u001b[38;5;241m1\u001b[39m):\n\u001b[0;32m----> 8\u001b[0m     \u001b[38;5;28;01mfor\u001b[39;00m batch_idx, (inputs, inputs_alpha, loss_deltas) \u001b[38;5;129;01min\u001b[39;00m \u001b[38;5;28menumerate\u001b[39m(dataloader):\n\u001b[1;32m      9\u001b[0m         \u001b[38;5;28mprint\u001b[39m(\u001b[38;5;124mf\u001b[39m\u001b[38;5;124m\"\u001b[39m\u001b[38;5;124mBatch \u001b[39m\u001b[38;5;132;01m{\u001b[39;00mbatch_idx\u001b[38;5;250m \u001b[39m\u001b[38;5;241m+\u001b[39m\u001b[38;5;250m \u001b[39m\u001b[38;5;241m1\u001b[39m\u001b[38;5;132;01m}\u001b[39;00m\u001b[38;5;124m\"\u001b[39m)\n\u001b[1;32m     10\u001b[0m         \u001b[38;5;28mprint\u001b[39m(\u001b[38;5;124mf\u001b[39m\u001b[38;5;124m\"\u001b[39m\u001b[38;5;124mInputs shape: \u001b[39m\u001b[38;5;132;01m{\u001b[39;00minputs\u001b[38;5;241m.\u001b[39mshape\u001b[38;5;132;01m}\u001b[39;00m\u001b[38;5;124m\"\u001b[39m)\n",
            "File \u001b[0;32m~/image_interpretability/venv/lib/python3.10/site-packages/torch/utils/data/dataloader.py:701\u001b[0m, in \u001b[0;36m_BaseDataLoaderIter.__next__\u001b[0;34m(self)\u001b[0m\n\u001b[1;32m    698\u001b[0m \u001b[38;5;28;01mif\u001b[39;00m \u001b[38;5;28mself\u001b[39m\u001b[38;5;241m.\u001b[39m_sampler_iter \u001b[38;5;129;01mis\u001b[39;00m \u001b[38;5;28;01mNone\u001b[39;00m:\n\u001b[1;32m    699\u001b[0m     \u001b[38;5;66;03m# TODO(https://github.com/pytorch/pytorch/issues/76750)\u001b[39;00m\n\u001b[1;32m    700\u001b[0m     \u001b[38;5;28mself\u001b[39m\u001b[38;5;241m.\u001b[39m_reset()  \u001b[38;5;66;03m# type: ignore[call-arg]\u001b[39;00m\n\u001b[0;32m--> 701\u001b[0m data \u001b[38;5;241m=\u001b[39m \u001b[38;5;28;43mself\u001b[39;49m\u001b[38;5;241;43m.\u001b[39;49m\u001b[43m_next_data\u001b[49m\u001b[43m(\u001b[49m\u001b[43m)\u001b[49m\n\u001b[1;32m    702\u001b[0m \u001b[38;5;28mself\u001b[39m\u001b[38;5;241m.\u001b[39m_num_yielded \u001b[38;5;241m+\u001b[39m\u001b[38;5;241m=\u001b[39m \u001b[38;5;241m1\u001b[39m\n\u001b[1;32m    703\u001b[0m \u001b[38;5;28;01mif\u001b[39;00m (\n\u001b[1;32m    704\u001b[0m     \u001b[38;5;28mself\u001b[39m\u001b[38;5;241m.\u001b[39m_dataset_kind \u001b[38;5;241m==\u001b[39m _DatasetKind\u001b[38;5;241m.\u001b[39mIterable\n\u001b[1;32m    705\u001b[0m     \u001b[38;5;129;01mand\u001b[39;00m \u001b[38;5;28mself\u001b[39m\u001b[38;5;241m.\u001b[39m_IterableDataset_len_called \u001b[38;5;129;01mis\u001b[39;00m \u001b[38;5;129;01mnot\u001b[39;00m \u001b[38;5;28;01mNone\u001b[39;00m\n\u001b[1;32m    706\u001b[0m     \u001b[38;5;129;01mand\u001b[39;00m \u001b[38;5;28mself\u001b[39m\u001b[38;5;241m.\u001b[39m_num_yielded \u001b[38;5;241m>\u001b[39m \u001b[38;5;28mself\u001b[39m\u001b[38;5;241m.\u001b[39m_IterableDataset_len_called\n\u001b[1;32m    707\u001b[0m ):\n",
            "File \u001b[0;32m~/image_interpretability/venv/lib/python3.10/site-packages/torch/utils/data/dataloader.py:1465\u001b[0m, in \u001b[0;36m_MultiProcessingDataLoaderIter._next_data\u001b[0;34m(self)\u001b[0m\n\u001b[1;32m   1463\u001b[0m \u001b[38;5;28;01melse\u001b[39;00m:\n\u001b[1;32m   1464\u001b[0m     \u001b[38;5;28;01mdel\u001b[39;00m \u001b[38;5;28mself\u001b[39m\u001b[38;5;241m.\u001b[39m_task_info[idx]\n\u001b[0;32m-> 1465\u001b[0m     \u001b[38;5;28;01mreturn\u001b[39;00m \u001b[38;5;28;43mself\u001b[39;49m\u001b[38;5;241;43m.\u001b[39;49m\u001b[43m_process_data\u001b[49m\u001b[43m(\u001b[49m\u001b[43mdata\u001b[49m\u001b[43m)\u001b[49m\n",
            "File \u001b[0;32m~/image_interpretability/venv/lib/python3.10/site-packages/torch/utils/data/dataloader.py:1491\u001b[0m, in \u001b[0;36m_MultiProcessingDataLoaderIter._process_data\u001b[0;34m(self, data)\u001b[0m\n\u001b[1;32m   1489\u001b[0m \u001b[38;5;28mself\u001b[39m\u001b[38;5;241m.\u001b[39m_try_put_index()\n\u001b[1;32m   1490\u001b[0m \u001b[38;5;28;01mif\u001b[39;00m \u001b[38;5;28misinstance\u001b[39m(data, ExceptionWrapper):\n\u001b[0;32m-> 1491\u001b[0m     \u001b[43mdata\u001b[49m\u001b[38;5;241;43m.\u001b[39;49m\u001b[43mreraise\u001b[49m\u001b[43m(\u001b[49m\u001b[43m)\u001b[49m\n\u001b[1;32m   1492\u001b[0m \u001b[38;5;28;01mreturn\u001b[39;00m data\n",
            "File \u001b[0;32m~/image_interpretability/venv/lib/python3.10/site-packages/torch/_utils.py:715\u001b[0m, in \u001b[0;36mExceptionWrapper.reraise\u001b[0;34m(self)\u001b[0m\n\u001b[1;32m    711\u001b[0m \u001b[38;5;28;01mexcept\u001b[39;00m \u001b[38;5;167;01mTypeError\u001b[39;00m:\n\u001b[1;32m    712\u001b[0m     \u001b[38;5;66;03m# If the exception takes multiple arguments, don't try to\u001b[39;00m\n\u001b[1;32m    713\u001b[0m     \u001b[38;5;66;03m# instantiate since we don't know how to\u001b[39;00m\n\u001b[1;32m    714\u001b[0m     \u001b[38;5;28;01mraise\u001b[39;00m \u001b[38;5;167;01mRuntimeError\u001b[39;00m(msg) \u001b[38;5;28;01mfrom\u001b[39;00m\u001b[38;5;250m \u001b[39m\u001b[38;5;28;01mNone\u001b[39;00m\n\u001b[0;32m--> 715\u001b[0m \u001b[38;5;28;01mraise\u001b[39;00m exception\n",
            "\u001b[0;31mRuntimeError\u001b[0m: Caught RuntimeError in DataLoader worker process 0.\nOriginal Traceback (most recent call last):\n  File \"/home/paperspace/image_interpretability/venv/lib/python3.10/site-packages/torch/utils/data/_utils/worker.py\", line 351, in _worker_loop\n    data = fetcher.fetch(index)  # type: ignore[possibly-undefined]\n  File \"/home/paperspace/image_interpretability/venv/lib/python3.10/site-packages/torch/utils/data/_utils/fetch.py\", line 52, in fetch\n    data = [self.dataset[idx] for idx in possibly_batched_index]\n  File \"/home/paperspace/image_interpretability/venv/lib/python3.10/site-packages/torch/utils/data/_utils/fetch.py\", line 52, in <listcomp>\n    data = [self.dataset[idx] for idx in possibly_batched_index]\n  File \"/tmp/ipykernel_2216/2043752173.py\", line 16, in __getitem__\n    loss_delta = self.loss_deltas[idx]\nRuntimeError: CUDA error: initialization error\nCompile with `TORCH_USE_CUDA_DSA` to enable device-side assertions.\n\n"
          ]
        }
      ],
      "source": [
        "\n",
        "import os\n",
        "\n",
        "# Set the CUDA_LAUNCH_BLOCKING environment variable\n",
        "os.environ['CUDA_LAUNCH_BLOCKING'] = '1'\n",
        "\n",
        "# Perform a dry run of the dataloader\n",
        "def dry_run_dataloader(dataloader, num_batches=1):\n",
        "    for batch_idx, (inputs, inputs_alpha, loss_deltas) in enumerate(dataloader):\n",
        "        print(f\"Batch {batch_idx + 1}\")\n",
        "        print(f\"Inputs shape: {inputs.shape}\")\n",
        "        print(f\"Inputs alpha shape: {inputs_alpha.shape}\")\n",
        "        print(f\"Loss deltas shape: {loss_deltas.shape}\")\n",
        "        if batch_idx + 1 >= num_batches:\n",
        "            break\n",
        "\n",
        "# Dry run the train delta loader\n",
        "dry_run_dataloader(train_delta_loader, num_batches=3)"
      ]
    },
    {
      "cell_type": "markdown",
      "metadata": {},
      "source": [
        "## Train Delta"
      ]
    },
    {
      "cell_type": "code",
      "execution_count": 45,
      "metadata": {},
      "outputs": [],
      "source": [
        "# Define the delta model using a pretrained ResNet18\n",
        "class DeltaModel(nn.Module):\n",
        "    def __init__(self):\n",
        "        super(DeltaModel, self).__init__()\n",
        "        self.resnet = torchvision.models.resnet18(weights = torchvision.models.resnet.ResNet18_Weights)\n",
        "        num_features = self.resnet.fc.in_features\n",
        "        self.resnet.fc = nn.Linear(num_features, 1)  # Predict a single value (delta loss)\n",
        "\n",
        "    def forward(self, x):\n",
        "        return self.resnet(x)\n"
      ]
    },
    {
      "cell_type": "code",
      "execution_count": 46,
      "metadata": {},
      "outputs": [],
      "source": [
        "\n",
        "# Initialize the delta model, criterion, and optimizer\n",
        "delta_model = DeltaModel().to(device)\n",
        "criterion_delta = nn.MSELoss()\n",
        "optimizer_delta = optim.Adam(delta_model.parameters(), lr=0.001)\n"
      ]
    },
    {
      "cell_type": "code",
      "execution_count": 47,
      "metadata": {},
      "outputs": [],
      "source": [
        "\n",
        "# Function to train the delta model\n",
        "def train_delta_model(model, train_loader, criterion, optimizer, num_epochs=10):\n",
        "    model.train()  # Set the model to training mode\n",
        "    for epoch in range(num_epochs):\n",
        "        running_loss = 0.0\n",
        "        start_time = time.time()\n",
        "\n",
        "        # Initialize tqdm progress bar\n",
        "        progress_bar = tqdm(enumerate(train_loader), total=len(train_loader), desc=f\"Epoch {epoch+1}/{num_epochs}\")\n",
        "\n",
        "        for batch_idx, (inputs, inputs_alpha, loss_deltas) in progress_bar:\n",
        "            inputs, inputs_alpha, loss_deltas = inputs.to(device), inputs_alpha.to(device), loss_deltas.to(device)\n",
        "\n",
        "            # Zero the parameter gradients\n",
        "            optimizer.zero_grad()\n",
        "\n",
        "            # Forward pass\n",
        "            outputs = model(inputs)\n",
        "            loss = criterion(outputs.squeeze(), loss_deltas)\n",
        "\n",
        "            # Backward pass and optimize\n",
        "            loss.backward()\n",
        "            optimizer.step()\n",
        "\n",
        "            # Update running loss\n",
        "            running_loss += loss.item()\n",
        "\n",
        "            # Update tqdm bar with current loss\n",
        "            progress_bar.set_postfix(loss=loss.item())\n",
        "\n",
        "        epoch_loss = running_loss / len(train_loader)\n",
        "        print(f\"Epoch {epoch+1}/{num_epochs}, Loss: {epoch_loss:.4f}, Time: {time.time() - start_time:.2f}s\")\n",
        "\n",
        "    print(\"Training complete\")\n"
      ]
    },
    {
      "cell_type": "code",
      "execution_count": 48,
      "metadata": {},
      "outputs": [
        {
          "name": "stderr",
          "output_type": "stream",
          "text": [
            "Epoch 1/10:   0%|          | 0/79 [00:00<?, ?it/s]\n"
          ]
        },
        {
          "ename": "IndexError",
          "evalue": "Caught IndexError in DataLoader worker process 0.\nOriginal Traceback (most recent call last):\n  File \"/home/paperspace/image_interpretability/venv/lib/python3.10/site-packages/torch/utils/data/_utils/worker.py\", line 351, in _worker_loop\n    data = fetcher.fetch(index)  # type: ignore[possibly-undefined]\n  File \"/home/paperspace/image_interpretability/venv/lib/python3.10/site-packages/torch/utils/data/_utils/fetch.py\", line 52, in fetch\n    data = [self.dataset[idx] for idx in possibly_batched_index]\n  File \"/home/paperspace/image_interpretability/venv/lib/python3.10/site-packages/torch/utils/data/_utils/fetch.py\", line 52, in <listcomp>\n    data = [self.dataset[idx] for idx in possibly_batched_index]\n  File \"/tmp/ipykernel_2427/577932184.py\", line 13, in __getitem__\n    loss_delta = self.loss_deltas[idx]\nIndexError: list index out of range\n",
          "output_type": "error",
          "traceback": [
            "\u001b[0;31m---------------------------------------------------------------------------\u001b[0m",
            "\u001b[0;31mIndexError\u001b[0m                                Traceback (most recent call last)",
            "Cell \u001b[0;32mIn[48], line 2\u001b[0m\n\u001b[1;32m      1\u001b[0m \u001b[38;5;66;03m# Train the delta model\u001b[39;00m\n\u001b[0;32m----> 2\u001b[0m \u001b[43mtrain_delta_model\u001b[49m\u001b[43m(\u001b[49m\u001b[43mdelta_model\u001b[49m\u001b[43m,\u001b[49m\u001b[43m \u001b[49m\u001b[43mtrain_delta_loader\u001b[49m\u001b[43m,\u001b[49m\u001b[43m \u001b[49m\u001b[43mcriterion_delta\u001b[49m\u001b[43m,\u001b[49m\u001b[43m \u001b[49m\u001b[43moptimizer_delta\u001b[49m\u001b[43m,\u001b[49m\u001b[43m \u001b[49m\u001b[43mnum_epochs\u001b[49m\u001b[38;5;241;43m=\u001b[39;49m\u001b[38;5;241;43m10\u001b[39;49m\u001b[43m)\u001b[49m\n",
            "Cell \u001b[0;32mIn[47], line 11\u001b[0m, in \u001b[0;36mtrain_delta_model\u001b[0;34m(model, train_loader, criterion, optimizer, num_epochs)\u001b[0m\n\u001b[1;32m      8\u001b[0m \u001b[38;5;66;03m# Initialize tqdm progress bar\u001b[39;00m\n\u001b[1;32m      9\u001b[0m progress_bar \u001b[38;5;241m=\u001b[39m tqdm(\u001b[38;5;28menumerate\u001b[39m(train_loader), total\u001b[38;5;241m=\u001b[39m\u001b[38;5;28mlen\u001b[39m(train_loader), desc\u001b[38;5;241m=\u001b[39m\u001b[38;5;124mf\u001b[39m\u001b[38;5;124m\"\u001b[39m\u001b[38;5;124mEpoch \u001b[39m\u001b[38;5;132;01m{\u001b[39;00mepoch\u001b[38;5;241m+\u001b[39m\u001b[38;5;241m1\u001b[39m\u001b[38;5;132;01m}\u001b[39;00m\u001b[38;5;124m/\u001b[39m\u001b[38;5;132;01m{\u001b[39;00mnum_epochs\u001b[38;5;132;01m}\u001b[39;00m\u001b[38;5;124m\"\u001b[39m)\n\u001b[0;32m---> 11\u001b[0m \u001b[38;5;28;01mfor\u001b[39;00m batch_idx, (inputs, inputs_alpha, loss_deltas) \u001b[38;5;129;01min\u001b[39;00m progress_bar:\n\u001b[1;32m     12\u001b[0m     inputs, inputs_alpha, loss_deltas \u001b[38;5;241m=\u001b[39m inputs\u001b[38;5;241m.\u001b[39mto(device), inputs_alpha\u001b[38;5;241m.\u001b[39mto(device), loss_deltas\u001b[38;5;241m.\u001b[39mto(device)\n\u001b[1;32m     14\u001b[0m     \u001b[38;5;66;03m# Zero the parameter gradients\u001b[39;00m\n",
            "File \u001b[0;32m~/image_interpretability/venv/lib/python3.10/site-packages/tqdm/std.py:1181\u001b[0m, in \u001b[0;36mtqdm.__iter__\u001b[0;34m(self)\u001b[0m\n\u001b[1;32m   1178\u001b[0m time \u001b[38;5;241m=\u001b[39m \u001b[38;5;28mself\u001b[39m\u001b[38;5;241m.\u001b[39m_time\n\u001b[1;32m   1180\u001b[0m \u001b[38;5;28;01mtry\u001b[39;00m:\n\u001b[0;32m-> 1181\u001b[0m     \u001b[38;5;28;01mfor\u001b[39;00m obj \u001b[38;5;129;01min\u001b[39;00m iterable:\n\u001b[1;32m   1182\u001b[0m         \u001b[38;5;28;01myield\u001b[39;00m obj\n\u001b[1;32m   1183\u001b[0m         \u001b[38;5;66;03m# Update and possibly print the progressbar.\u001b[39;00m\n\u001b[1;32m   1184\u001b[0m         \u001b[38;5;66;03m# Note: does not call self.update(1) for speed optimisation.\u001b[39;00m\n",
            "File \u001b[0;32m~/image_interpretability/venv/lib/python3.10/site-packages/torch/utils/data/dataloader.py:701\u001b[0m, in \u001b[0;36m_BaseDataLoaderIter.__next__\u001b[0;34m(self)\u001b[0m\n\u001b[1;32m    698\u001b[0m \u001b[38;5;28;01mif\u001b[39;00m \u001b[38;5;28mself\u001b[39m\u001b[38;5;241m.\u001b[39m_sampler_iter \u001b[38;5;129;01mis\u001b[39;00m \u001b[38;5;28;01mNone\u001b[39;00m:\n\u001b[1;32m    699\u001b[0m     \u001b[38;5;66;03m# TODO(https://github.com/pytorch/pytorch/issues/76750)\u001b[39;00m\n\u001b[1;32m    700\u001b[0m     \u001b[38;5;28mself\u001b[39m\u001b[38;5;241m.\u001b[39m_reset()  \u001b[38;5;66;03m# type: ignore[call-arg]\u001b[39;00m\n\u001b[0;32m--> 701\u001b[0m data \u001b[38;5;241m=\u001b[39m \u001b[38;5;28;43mself\u001b[39;49m\u001b[38;5;241;43m.\u001b[39;49m\u001b[43m_next_data\u001b[49m\u001b[43m(\u001b[49m\u001b[43m)\u001b[49m\n\u001b[1;32m    702\u001b[0m \u001b[38;5;28mself\u001b[39m\u001b[38;5;241m.\u001b[39m_num_yielded \u001b[38;5;241m+\u001b[39m\u001b[38;5;241m=\u001b[39m \u001b[38;5;241m1\u001b[39m\n\u001b[1;32m    703\u001b[0m \u001b[38;5;28;01mif\u001b[39;00m (\n\u001b[1;32m    704\u001b[0m     \u001b[38;5;28mself\u001b[39m\u001b[38;5;241m.\u001b[39m_dataset_kind \u001b[38;5;241m==\u001b[39m _DatasetKind\u001b[38;5;241m.\u001b[39mIterable\n\u001b[1;32m    705\u001b[0m     \u001b[38;5;129;01mand\u001b[39;00m \u001b[38;5;28mself\u001b[39m\u001b[38;5;241m.\u001b[39m_IterableDataset_len_called \u001b[38;5;129;01mis\u001b[39;00m \u001b[38;5;129;01mnot\u001b[39;00m \u001b[38;5;28;01mNone\u001b[39;00m\n\u001b[1;32m    706\u001b[0m     \u001b[38;5;129;01mand\u001b[39;00m \u001b[38;5;28mself\u001b[39m\u001b[38;5;241m.\u001b[39m_num_yielded \u001b[38;5;241m>\u001b[39m \u001b[38;5;28mself\u001b[39m\u001b[38;5;241m.\u001b[39m_IterableDataset_len_called\n\u001b[1;32m    707\u001b[0m ):\n",
            "File \u001b[0;32m~/image_interpretability/venv/lib/python3.10/site-packages/torch/utils/data/dataloader.py:1465\u001b[0m, in \u001b[0;36m_MultiProcessingDataLoaderIter._next_data\u001b[0;34m(self)\u001b[0m\n\u001b[1;32m   1463\u001b[0m \u001b[38;5;28;01melse\u001b[39;00m:\n\u001b[1;32m   1464\u001b[0m     \u001b[38;5;28;01mdel\u001b[39;00m \u001b[38;5;28mself\u001b[39m\u001b[38;5;241m.\u001b[39m_task_info[idx]\n\u001b[0;32m-> 1465\u001b[0m     \u001b[38;5;28;01mreturn\u001b[39;00m \u001b[38;5;28;43mself\u001b[39;49m\u001b[38;5;241;43m.\u001b[39;49m\u001b[43m_process_data\u001b[49m\u001b[43m(\u001b[49m\u001b[43mdata\u001b[49m\u001b[43m)\u001b[49m\n",
            "File \u001b[0;32m~/image_interpretability/venv/lib/python3.10/site-packages/torch/utils/data/dataloader.py:1491\u001b[0m, in \u001b[0;36m_MultiProcessingDataLoaderIter._process_data\u001b[0;34m(self, data)\u001b[0m\n\u001b[1;32m   1489\u001b[0m \u001b[38;5;28mself\u001b[39m\u001b[38;5;241m.\u001b[39m_try_put_index()\n\u001b[1;32m   1490\u001b[0m \u001b[38;5;28;01mif\u001b[39;00m \u001b[38;5;28misinstance\u001b[39m(data, ExceptionWrapper):\n\u001b[0;32m-> 1491\u001b[0m     \u001b[43mdata\u001b[49m\u001b[38;5;241;43m.\u001b[39;49m\u001b[43mreraise\u001b[49m\u001b[43m(\u001b[49m\u001b[43m)\u001b[49m\n\u001b[1;32m   1492\u001b[0m \u001b[38;5;28;01mreturn\u001b[39;00m data\n",
            "File \u001b[0;32m~/image_interpretability/venv/lib/python3.10/site-packages/torch/_utils.py:715\u001b[0m, in \u001b[0;36mExceptionWrapper.reraise\u001b[0;34m(self)\u001b[0m\n\u001b[1;32m    711\u001b[0m \u001b[38;5;28;01mexcept\u001b[39;00m \u001b[38;5;167;01mTypeError\u001b[39;00m:\n\u001b[1;32m    712\u001b[0m     \u001b[38;5;66;03m# If the exception takes multiple arguments, don't try to\u001b[39;00m\n\u001b[1;32m    713\u001b[0m     \u001b[38;5;66;03m# instantiate since we don't know how to\u001b[39;00m\n\u001b[1;32m    714\u001b[0m     \u001b[38;5;28;01mraise\u001b[39;00m \u001b[38;5;167;01mRuntimeError\u001b[39;00m(msg) \u001b[38;5;28;01mfrom\u001b[39;00m\u001b[38;5;250m \u001b[39m\u001b[38;5;28;01mNone\u001b[39;00m\n\u001b[0;32m--> 715\u001b[0m \u001b[38;5;28;01mraise\u001b[39;00m exception\n",
            "\u001b[0;31mIndexError\u001b[0m: Caught IndexError in DataLoader worker process 0.\nOriginal Traceback (most recent call last):\n  File \"/home/paperspace/image_interpretability/venv/lib/python3.10/site-packages/torch/utils/data/_utils/worker.py\", line 351, in _worker_loop\n    data = fetcher.fetch(index)  # type: ignore[possibly-undefined]\n  File \"/home/paperspace/image_interpretability/venv/lib/python3.10/site-packages/torch/utils/data/_utils/fetch.py\", line 52, in fetch\n    data = [self.dataset[idx] for idx in possibly_batched_index]\n  File \"/home/paperspace/image_interpretability/venv/lib/python3.10/site-packages/torch/utils/data/_utils/fetch.py\", line 52, in <listcomp>\n    data = [self.dataset[idx] for idx in possibly_batched_index]\n  File \"/tmp/ipykernel_2427/577932184.py\", line 13, in __getitem__\n    loss_delta = self.loss_deltas[idx]\nIndexError: list index out of range\n"
          ]
        }
      ],
      "source": [
        "\n",
        "# Train the delta model\n",
        "train_delta_model(delta_model, train_delta_loader, criterion_delta, optimizer_delta, num_epochs=1)"
      ]
    },
    {
      "cell_type": "code",
      "execution_count": 41,
      "metadata": {},
      "outputs": [
        {
          "name": "stderr",
          "output_type": "stream",
          "text": [
            "/home/paperspace/image_interpretability/venv/lib/python3.10/site-packages/torchvision/models/_utils.py:208: UserWarning: The parameter 'pretrained' is deprecated since 0.13 and may be removed in the future, please use 'weights' instead.\n",
            "  warnings.warn(\n",
            "/home/paperspace/image_interpretability/venv/lib/python3.10/site-packages/torchvision/models/_utils.py:223: UserWarning: Arguments other than a weight enum or `None` for 'weights' are deprecated since 0.13 and may be removed in the future. The current behavior is equivalent to passing `weights=ResNet18_Weights.IMAGENET1K_V1`. You can also use `weights=ResNet18_Weights.DEFAULT` to get the most up-to-date weights.\n",
            "  warnings.warn(msg)\n"
          ]
        }
      ],
      "source": [
        "\n",
        "# Initialize the delta model, criterion, and optimizer\n",
        "delta_model = DeltaModel().to(device)\n",
        "criterion_delta = nn.MSELoss()\n",
        "optimizer_delta = optim.Adam(delta_model.parameters(), lr=0.001)\n"
      ]
    },
    {
      "cell_type": "code",
      "execution_count": null,
      "metadata": {},
      "outputs": [],
      "source": [
        "\n",
        "# Function to train the delta model\n",
        "def train_delta_model(model, train_loader, criterion, optimizer, num_epochs=10):\n",
        "    model.train()  # Set the model to training mode\n",
        "    for epoch in range(num_epochs):\n",
        "        running_loss = 0.0\n",
        "        start_time = time.time()\n",
        "\n",
        "        # Initialize tqdm progress bar\n",
        "        progress_bar = tqdm(enumerate(train_loader), total=len(train_loader), desc=f\"Epoch {epoch+1}/{num_epochs}\")\n",
        "\n",
        "        for batch_idx, (inputs, inputs_alpha, loss_deltas) in progress_bar:\n",
        "            inputs, inputs_alpha, loss_deltas = inputs.to(device), inputs_alpha.to(device), loss_deltas.to(device)\n",
        "\n",
        "            # Zero the parameter gradients\n",
        "            optimizer.zero_grad()\n",
        "\n",
        "            # Forward pass\n",
        "            outputs = model(inputs)\n",
        "            loss = criterion(outputs.squeeze(), loss_deltas)\n",
        "\n",
        "            # Backward pass and optimize\n",
        "            loss.backward()\n",
        "            optimizer.step()\n",
        "\n",
        "            # Update running loss\n",
        "            running_loss += loss.item()\n",
        "\n",
        "            # Update tqdm bar with current loss\n",
        "            progress_bar.set_postfix(loss=loss.item())\n",
        "\n",
        "        epoch_loss = running_loss / len(train_loader)\n",
        "        print(f\"Epoch {epoch+1}/{num_epochs}, Loss: {epoch_loss:.4f}, Time: {time.time() - start_time:.2f}s\")\n",
        "\n",
        "    print(\"Training complete\")\n",
        "\n",
        "# Train the delta model\n",
        "train_delta_model(delta_model, train_delta_loader, criterion_delta, optimizer_delta, num_epochs=10)"
      ]
    }
  ],
  "metadata": {
    "accelerator": "GPU",
    "colab": {
      "collapsed_sections": [
        "X4EhaZ0AI5uW",
        "nAPSLLqFIO4b",
        "jkkH90jKyk5W",
        "Ni0C-mV2ypSf"
      ],
      "gpuType": "A100",
      "machine_shape": "hm",
      "provenance": []
    },
    "kernelspec": {
      "display_name": "venv",
      "language": "python",
      "name": "python3"
    },
    "language_info": {
      "codemirror_mode": {
        "name": "ipython",
        "version": 3
      },
      "file_extension": ".py",
      "mimetype": "text/x-python",
      "name": "python",
      "nbconvert_exporter": "python",
      "pygments_lexer": "ipython3",
      "version": "3.10.12"
    }
  },
  "nbformat": 4,
  "nbformat_minor": 0
}
