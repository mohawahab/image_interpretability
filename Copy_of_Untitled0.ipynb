{
  "nbformat": 4,
  "nbformat_minor": 0,
  "metadata": {
    "colab": {
      "provenance": [],
      "collapsed_sections": [
        "X4EhaZ0AI5uW",
        "nAPSLLqFIO4b",
        "jkkH90jKyk5W",
        "Ni0C-mV2ypSf"
      ],
      "machine_shape": "hm",
      "gpuType": "A100"
    },
    "kernelspec": {
      "name": "python3",
      "display_name": "Python 3"
    },
    "language_info": {
      "name": "python"
    },
    "accelerator": "GPU"
  },
  "cells": [
    {
      "cell_type": "code",
      "source": [
        "import torch\n",
        "import torch.nn as nn\n",
        "import torch.optim as optim\n",
        "from torchvision import datasets, transforms, models\n",
        "from torch.utils.data import DataLoader\n",
        "import matplotlib.pyplot as plt\n",
        "import torchvision\n",
        "import numpy as np\n",
        "from torchvision.datasets import STL10 as dataset\n",
        "import time\n",
        "from tqdm import tqdm\n",
        "import pickle\n",
        "device = torch.device(\"cuda\" if torch.cuda.is_available() else \"cpu\")\n",
        "import os\n",
        "import glob\n",
        "from torch.utils.data import Dataset, DataLoader\n",
        "\n",
        "device"
      ],
      "metadata": {
        "id": "GaPURni0AGXf",
        "colab": {
          "base_uri": "https://localhost:8080/"
        },
        "outputId": "03b7a12a-e4a5-4482-8405-4f4ed8a214f8"
      },
      "execution_count": 26,
      "outputs": [
        {
          "output_type": "execute_result",
          "data": {
            "text/plain": [
              "device(type='cuda')"
            ]
          },
          "metadata": {},
          "execution_count": 26
        }
      ]
    },
    {
      "cell_type": "markdown",
      "source": [
        "## Data"
      ],
      "metadata": {
        "id": "X4EhaZ0AI5uW"
      }
    },
    {
      "cell_type": "code",
      "source": [
        "data_path = '/content/drive/MyDrive/data'\n"
      ],
      "metadata": {
        "id": "weeQqWe_M78v"
      },
      "execution_count": 2,
      "outputs": []
    },
    {
      "cell_type": "code",
      "source": [
        "!ls -ltriah /content/drive/MyDrive/data"
      ],
      "metadata": {
        "colab": {
          "base_uri": "https://localhost:8080/"
        },
        "id": "a7xew5OhNbX0",
        "outputId": "f4d5af0a-99e5-4a05-b44e-1a84b9c4cd4f"
      },
      "execution_count": 3,
      "outputs": [
        {
          "output_type": "stream",
          "name": "stdout",
          "text": [
            "total 2.7G\n",
            "70 -rw------- 1 root root 211M Apr 20  2024 processed_data.pickle.gz\n",
            "71 drwx------ 2 root root 4.0K Apr 27  2024 semantic_data\n",
            "72 drwx------ 2 root root 4.0K Apr 27  2024 history_1\n",
            "73 drwx------ 2 root root 4.0K Apr 27  2024 history\n",
            "74 drwx------ 2 root root 4.0K Apr 27  2024 model\n",
            "75 -rw------- 1 root root 2.5G Jan 18 16:24 stl10_binary.tar.gz\n",
            "76 drwx------ 2 root root 4.0K Jan 18 16:24 stl10_binary\n",
            "77 drwx------ 2 root root 4.0K Jan 18 16:34 models\n"
          ]
        }
      ]
    },
    {
      "cell_type": "markdown",
      "source": [
        "### Transformers 🤖"
      ],
      "metadata": {
        "id": "bNu6YFhq6VTt"
      }
    },
    {
      "cell_type": "code",
      "source": [
        "class DualTransformDataset(Dataset):\n",
        "    def __init__(self, dataset, transform, transform_alpha):\n",
        "        \"\"\"\n",
        "        A custom dataset that applies two different transforms to each image.\n",
        "\n",
        "        Args:\n",
        "            dataset (Dataset): The base dataset to use (e.g., STL10, CIFAR-10).\n",
        "            transform (callable): The first transformation to apply.\n",
        "            transform_alpha (callable): The second transformation to apply.\n",
        "        \"\"\"\n",
        "        self.dataset = dataset\n",
        "        self.transform = transform\n",
        "        self.transform_alpha = transform_alpha\n",
        "\n",
        "    def __len__(self):\n",
        "        return len(self.dataset)\n",
        "\n",
        "    def __getitem__(self, idx):\n",
        "        image, label = self.dataset[idx]  # Get the original image and label\n",
        "        image1 = self.transform(image) if self.transform else image\n",
        "        image2 = self.transform_alpha(image) if self.transform_alpha else image\n",
        "        return image1, image2, label"
      ],
      "metadata": {
        "id": "-k45tNCg6guX"
      },
      "execution_count": 29,
      "outputs": []
    },
    {
      "cell_type": "code",
      "source": [
        "transform = transforms.Compose([\n",
        "    transforms.ToTensor(),\n",
        "    transforms.Normalize((0.5, 0.5, 0.5), (0.5, 0.5, 0.5))  # Normalize with mean and std\n",
        "])\n",
        "\n",
        "transform_alpha = transforms.Compose([\n",
        "    transforms.ToTensor(),  # Convert to tensor\n",
        "    transforms.Lambda(lambda x: x + 0.1 * torch.randn_like(x)),  # Increase Gaussian noise (was 0.01)\n",
        "    transforms.GaussianBlur(kernel_size=5, sigma=(2.0, 5.0)),  # Apply Gaussian blur\n",
        "    transforms.Normalize((0.5, 0.5, 0.5), (0.5, 0.5, 0.5))  # Normalize\n",
        "])"
      ],
      "metadata": {
        "id": "Ax9IbJwaAH8z"
      },
      "execution_count": 28,
      "outputs": []
    },
    {
      "cell_type": "markdown",
      "source": [
        "### Data loaders"
      ],
      "metadata": {
        "id": "7kdZLw7Y6RYf"
      }
    },
    {
      "cell_type": "code",
      "source": [
        "# Download and load the training dataset\n",
        "train_dataset = datasets.STL10(root=data_path, split='train', download=False, transform=transform)\n",
        "train_loader = DataLoader(train_dataset, batch_size=64, shuffle=False)\n",
        "\n",
        "test_dataset = datasets.STL10(root=data_path, split='test', download=False, transform=transform)\n",
        "test_loader = DataLoader(test_dataset, batch_size=64, shuffle=False)"
      ],
      "metadata": {
        "id": "C_WYW0MyAQ8J"
      },
      "execution_count": 5,
      "outputs": []
    },
    {
      "cell_type": "code",
      "source": [
        "\n",
        "\n",
        "# Load the CIFAR-10 dataset with the transformations\n",
        "train_dataset_alpha = datasets.STL10(root=data_path, split='train', download=False, transform=transform_alpha)\n",
        "train_loader_alpha = DataLoader(train_dataset_alpha, batch_size=64, shuffle=False)\n",
        "\n",
        "\n",
        "# Download and load the testing dataset\n",
        "test_dataset_alpha = datasets.STL10(root=data_path, split='test', download=False, transform=transform_alpha)\n",
        "test_loader_alpha = DataLoader(test_dataset_alpha, batch_size=64, shuffle=False)\n"
      ],
      "metadata": {
        "id": "_ox44KRRAwX8"
      },
      "execution_count": 6,
      "outputs": []
    },
    {
      "cell_type": "code",
      "source": [
        "train_nont_dataset = datasets.STL10(root=data_path, split='train', download=False, transform=None)\n",
        "train_dual_dataset = DualTransformDataset(train_nont_dataset, transform, transform_alpha)\n",
        "train_dual_loader = DataLoader(train_dual_dataset, batch_size=64, shuffle=True, num_workers=4)\n",
        "\n",
        "test_nont_dataset = datasets.STL10(root=data_path, split='test', download=False, transform=None)\n",
        "test_dual_dataset = DualTransformDataset(test_nont_dataset, transform, transform_alpha)\n",
        "test_dual_loader = DataLoader(test_dual_dataset, batch_size=64, shuffle=True, num_workers=4)\n",
        "\n"
      ],
      "metadata": {
        "id": "j8t14ZCw68wE"
      },
      "execution_count": 38,
      "outputs": []
    },
    {
      "cell_type": "markdown",
      "source": [
        "### Show images"
      ],
      "metadata": {
        "id": "ylr8pCQq669S"
      }
    },
    {
      "cell_type": "code",
      "execution_count": 7,
      "metadata": {
        "id": "jyywc5lx_9ui"
      },
      "outputs": [],
      "source": [
        "# Display a few sample images from the training dataset\n",
        "def show_images(data_loader):\n",
        "    # Get a batch of images\n",
        "    data_iter = iter(data_loader)\n",
        "    images, labels = next(data_iter)\n",
        "\n",
        "    # Unnormalize and plot\n",
        "    images = images / 2 + 0.5  # Unnormalize\n",
        "    grid = torchvision.utils.make_grid(images[:8])  # Take first 8 images\n",
        "    plt.figure(figsize=(10, 4))\n",
        "    plt.imshow(grid.permute(1, 2, 0))  # Permute dimensions for plotting\n",
        "    plt.axis('off')\n",
        "    plt.show()\n",
        "\n",
        "# Show some images"
      ]
    },
    {
      "cell_type": "code",
      "source": [
        "def imshow(img):\n",
        "    img = img / 2 + 0.5  # Unnormalize\n",
        "    npimg = img.numpy()\n",
        "    plt.figure(figsize=(10, 4))\n",
        "    plt.imshow(np.transpose(npimg, (1, 2, 0)))  # Convert CHW to HWC for plotting\n",
        "    plt.axis('off')\n",
        "    plt.show()\n"
      ],
      "metadata": {
        "id": "-0DTQyC3BK7W"
      },
      "execution_count": 8,
      "outputs": []
    },
    {
      "cell_type": "code",
      "source": [
        "next(iter(train_nont_dataset))[0]"
      ],
      "metadata": {
        "id": "5deYfmcZ9CsG",
        "outputId": "7bccf68b-90cc-45e4-b68f-6ff646ae7d35",
        "colab": {
          "base_uri": "https://localhost:8080/",
          "height": 133
        }
      },
      "execution_count": 35,
      "outputs": [
        {
          "output_type": "execute_result",
          "data": {
            "text/plain": [
              "<PIL.Image.Image image mode=RGB size=96x96>"
            ],
            "image/png": "[encoded data removed]",
            "image/jpeg": "[encoded data removed]"
          },
          "metadata": {},
          "execution_count": 35
        }
      ]
    },
    {
      "cell_type": "code",
      "source": [],
      "metadata": {
        "id": "c3-fOkwF9M7N"
      },
      "execution_count": null,
      "outputs": []
    },
    {
      "cell_type": "code",
      "source": [
        "# images, _ = next(iter(train_loader))\n",
        "# images_alpha, _ = next(iter(train_loader_alpha))\n",
        "images,images_alpha, _ = next(iter(train_dual_loader))\n",
        "i = 11\n",
        "imshow(images[i])\n",
        "imshow(images_alpha[i])\n"
      ],
      "metadata": {
        "colab": {
          "base_uri": "https://localhost:8080/",
          "height": 710
        },
        "id": "WF9sSAnRCCm9",
        "outputId": "47b0c7ad-f620-430e-c947-a29509168248"
      },
      "execution_count": 44,
      "outputs": [
        {
          "output_type": "display_data",
          "data": {
            "text/plain": [
              "<Figure size 1000x400 with 1 Axes>"
            ],
            "image/png": "[encoded data removed]"
          },
          "metadata": {}
        },
        {
          "output_type": "stream",
          "name": "stderr",
          "text": [
            "WARNING:matplotlib.image:Clipping input data to the valid range for imshow with RGB data ([0..1] for floats or [0..255] for integers). Got range [-0.041300595..0.5742335].\n"
          ]
        },
        {
          "output_type": "display_data",
          "data": {
            "text/plain": [
              "<Figure size 1000x400 with 1 Axes>"
            ],
            "image/png": "[encoded data removed]"
          },
          "metadata": {}
        }
      ]
    },
    {
      "cell_type": "markdown",
      "source": [
        "## Train"
      ],
      "metadata": {
        "id": "nAPSLLqFIO4b"
      }
    },
    {
      "cell_type": "code",
      "source": [
        "def get_new_model():\n",
        "  model = models.resnet18(pretrained=True)\n",
        "\n",
        "  # Modify the fully connected layer to match STL10 classes\n",
        "  num_features = model.fc.in_features\n",
        "  model.fc = nn.Linear(num_features, 10)  # STL10 has 10 classes\n",
        "\n",
        "  # Move the model to the appropriate device (GPU if available)\n",
        "  device = torch.device(\"cuda\" if torch.cuda.is_available() else \"cpu\")\n",
        "  model = model.to(device)\n",
        "  criterion = nn.CrossEntropyLoss()\n",
        "  optimizer = optim.Adam(model.parameters(), lr=0.001)\n",
        "  return {'model': model, 'criterion': criterion, 'optimizer': optimizer}"
      ],
      "metadata": {
        "id": "KfdIsWjPIQY9"
      },
      "execution_count": 10,
      "outputs": []
    },
    {
      "cell_type": "code",
      "source": [
        "def train_model(model, train_loader, criterion, optimizer, num_epochs=10):\n",
        "    model.train()  # Set the model to training mode\n",
        "    for epoch in range(num_epochs):\n",
        "        running_loss = 0.0\n",
        "        start_time = time.time()\n",
        "\n",
        "        # Initialize tqdm progress bar\n",
        "        progress_bar = tqdm(enumerate(train_loader), total=len(train_loader), desc=f\"Epoch {epoch+1}/{num_epochs}\")\n",
        "\n",
        "        for batch_idx, (inputs, labels) in progress_bar:\n",
        "            inputs, labels = inputs.to(device), labels.to(device)\n",
        "\n",
        "            # Zero the parameter gradients\n",
        "            optimizer.zero_grad()\n",
        "\n",
        "            # Forward pass\n",
        "            outputs = model(inputs)\n",
        "            loss = criterion(outputs, labels)\n",
        "\n",
        "            # Backward pass and optimize\n",
        "            loss.backward()\n",
        "            optimizer.step()\n",
        "\n",
        "            # Update running loss\n",
        "            running_loss += loss.item()\n",
        "\n",
        "            # Update tqdm bar with current loss\n",
        "            progress_bar.set_postfix(loss=loss.item())\n",
        "\n",
        "        epoch_loss = running_loss / len(train_loader)\n",
        "        print(f\"Epoch {epoch+1}/{num_epochs}, Loss: {epoch_loss:.4f}, Time: {time.time() - start_time:.2f}s\")\n",
        "\n",
        "    print(\"Training complete\")"
      ],
      "metadata": {
        "id": "lEyCVJTqIjdO"
      },
      "execution_count": 11,
      "outputs": []
    },
    {
      "cell_type": "code",
      "source": [
        "model_dict = get_new_model()\n",
        "model = model_dict['model']\n",
        "criterion = model_dict['criterion']\n",
        "optimizer = model_dict['optimizer']\n",
        "\n",
        "model_alpha_dict = get_new_model()\n",
        "model_alpha = model_alpha_dict['model']\n",
        "criterion_alpha = model_alpha_dict['criterion']\n",
        "optimizer_alpha = model_alpha_dict['optimizer']"
      ],
      "metadata": {
        "colab": {
          "base_uri": "https://localhost:8080/"
        },
        "id": "viq5gwswIqdp",
        "outputId": "7c17d74d-ca77-4ff7-8356-37c7368b7836"
      },
      "execution_count": 12,
      "outputs": [
        {
          "output_type": "stream",
          "name": "stderr",
          "text": [
            "/usr/local/lib/python3.11/dist-packages/torchvision/models/_utils.py:208: UserWarning: The parameter 'pretrained' is deprecated since 0.13 and may be removed in the future, please use 'weights' instead.\n",
            "  warnings.warn(\n",
            "/usr/local/lib/python3.11/dist-packages/torchvision/models/_utils.py:223: UserWarning: Arguments other than a weight enum or `None` for 'weights' are deprecated since 0.13 and may be removed in the future. The current behavior is equivalent to passing `weights=ResNet18_Weights.IMAGENET1K_V1`. You can also use `weights=ResNet18_Weights.DEFAULT` to get the most up-to-date weights.\n",
            "  warnings.warn(msg)\n",
            "Downloading: \"https://download.pytorch.org/models/resnet18-f37072fd.pth\" to /root/.cache/torch/hub/checkpoints/resnet18-f37072fd.pth\n",
            "100%|██████████| 44.7M/44.7M [00:00<00:00, 184MB/s]\n"
          ]
        }
      ]
    },
    {
      "cell_type": "code",
      "source": [
        "train_model(model_alpha, train_loader_alpha, criterion_alpha, optimizer_alpha, num_epochs=10)\n",
        "with open(f\"{data_path}/models/model_alpha_dict_{round(time.time())}.pkl\", \"wb\") as f:\n",
        "    pickle.dump(model_alpha_dict, f)"
      ],
      "metadata": {
        "colab": {
          "base_uri": "https://localhost:8080/"
        },
        "id": "XvIOftEqRpt6",
        "outputId": "ae77662d-cd96-4aaf-8c23-97cc91ea56a5"
      },
      "execution_count": 13,
      "outputs": [
        {
          "output_type": "stream",
          "name": "stderr",
          "text": [
            "Epoch 1/10: 100%|██████████| 79/79 [00:09<00:00,  8.03it/s, loss=1.43]\n"
          ]
        },
        {
          "output_type": "stream",
          "name": "stdout",
          "text": [
            "Epoch 1/10, Loss: 1.1233, Time: 9.85s\n"
          ]
        },
        {
          "output_type": "stream",
          "name": "stderr",
          "text": [
            "Epoch 2/10: 100%|██████████| 79/79 [00:08<00:00,  9.26it/s, loss=0.671]\n"
          ]
        },
        {
          "output_type": "stream",
          "name": "stdout",
          "text": [
            "Epoch 2/10, Loss: 0.6350, Time: 8.54s\n"
          ]
        },
        {
          "output_type": "stream",
          "name": "stderr",
          "text": [
            "Epoch 3/10: 100%|██████████| 79/79 [00:08<00:00,  9.10it/s, loss=0.111]\n"
          ]
        },
        {
          "output_type": "stream",
          "name": "stdout",
          "text": [
            "Epoch 3/10, Loss: 0.4537, Time: 8.68s\n"
          ]
        },
        {
          "output_type": "stream",
          "name": "stderr",
          "text": [
            "Epoch 4/10: 100%|██████████| 79/79 [00:08<00:00,  9.13it/s, loss=0.0734]\n"
          ]
        },
        {
          "output_type": "stream",
          "name": "stdout",
          "text": [
            "Epoch 4/10, Loss: 0.3709, Time: 8.66s\n"
          ]
        },
        {
          "output_type": "stream",
          "name": "stderr",
          "text": [
            "Epoch 5/10: 100%|██████████| 79/79 [00:08<00:00,  9.27it/s, loss=0.0134]\n"
          ]
        },
        {
          "output_type": "stream",
          "name": "stdout",
          "text": [
            "Epoch 5/10, Loss: 0.2729, Time: 8.52s\n"
          ]
        },
        {
          "output_type": "stream",
          "name": "stderr",
          "text": [
            "Epoch 6/10: 100%|██████████| 79/79 [00:08<00:00,  9.22it/s, loss=0.0255]\n"
          ]
        },
        {
          "output_type": "stream",
          "name": "stdout",
          "text": [
            "Epoch 6/10, Loss: 0.1599, Time: 8.57s\n"
          ]
        },
        {
          "output_type": "stream",
          "name": "stderr",
          "text": [
            "Epoch 7/10: 100%|██████████| 79/79 [00:08<00:00,  9.15it/s, loss=0.00612]\n"
          ]
        },
        {
          "output_type": "stream",
          "name": "stdout",
          "text": [
            "Epoch 7/10, Loss: 0.1696, Time: 8.64s\n"
          ]
        },
        {
          "output_type": "stream",
          "name": "stderr",
          "text": [
            "Epoch 8/10: 100%|██████████| 79/79 [00:08<00:00,  9.16it/s, loss=0.00356]\n"
          ]
        },
        {
          "output_type": "stream",
          "name": "stdout",
          "text": [
            "Epoch 8/10, Loss: 0.1290, Time: 8.63s\n"
          ]
        },
        {
          "output_type": "stream",
          "name": "stderr",
          "text": [
            "Epoch 9/10: 100%|██████████| 79/79 [00:08<00:00,  9.38it/s, loss=0.00214]\n"
          ]
        },
        {
          "output_type": "stream",
          "name": "stdout",
          "text": [
            "Epoch 9/10, Loss: 0.1344, Time: 8.43s\n"
          ]
        },
        {
          "output_type": "stream",
          "name": "stderr",
          "text": [
            "Epoch 10/10: 100%|██████████| 79/79 [00:08<00:00,  9.11it/s, loss=0.0309]\n"
          ]
        },
        {
          "output_type": "stream",
          "name": "stdout",
          "text": [
            "Epoch 10/10, Loss: 0.0942, Time: 8.68s\n",
            "Training complete\n"
          ]
        }
      ]
    },
    {
      "cell_type": "code",
      "source": [
        "train_model(model, train_loader, criterion, optimizer, num_epochs=10)\n",
        "\n",
        "with open(f\"{data_path}/models/model_alpha_{round(time.time())}.pkl\", \"wb\") as f:\n",
        "    pickle.dump(model_alpha_dict, f)\n"
      ],
      "metadata": {
        "colab": {
          "base_uri": "https://localhost:8080/"
        },
        "id": "EkTQYm6mIwUD",
        "outputId": "06314637-42fa-4c23-c05a-730a8296ef9f"
      },
      "execution_count": 14,
      "outputs": [
        {
          "output_type": "stream",
          "name": "stderr",
          "text": [
            "Epoch 1/10: 100%|██████████| 79/79 [00:03<00:00, 21.77it/s, loss=0.774]\n"
          ]
        },
        {
          "output_type": "stream",
          "name": "stdout",
          "text": [
            "Epoch 1/10, Loss: 0.9006, Time: 3.63s\n"
          ]
        },
        {
          "output_type": "stream",
          "name": "stderr",
          "text": [
            "Epoch 2/10: 100%|██████████| 79/79 [00:03<00:00, 21.35it/s, loss=2.28]\n"
          ]
        },
        {
          "output_type": "stream",
          "name": "stdout",
          "text": [
            "Epoch 2/10, Loss: 0.4499, Time: 3.71s\n"
          ]
        },
        {
          "output_type": "stream",
          "name": "stderr",
          "text": [
            "Epoch 3/10: 100%|██████████| 79/79 [00:03<00:00, 21.72it/s, loss=0.975]\n"
          ]
        },
        {
          "output_type": "stream",
          "name": "stdout",
          "text": [
            "Epoch 3/10, Loss: 0.3516, Time: 3.64s\n"
          ]
        },
        {
          "output_type": "stream",
          "name": "stderr",
          "text": [
            "Epoch 4/10: 100%|██████████| 79/79 [00:03<00:00, 21.04it/s, loss=0.0616]\n"
          ]
        },
        {
          "output_type": "stream",
          "name": "stdout",
          "text": [
            "Epoch 4/10, Loss: 0.2350, Time: 3.76s\n"
          ]
        },
        {
          "output_type": "stream",
          "name": "stderr",
          "text": [
            "Epoch 5/10: 100%|██████████| 79/79 [00:03<00:00, 21.71it/s, loss=0.00481]\n"
          ]
        },
        {
          "output_type": "stream",
          "name": "stdout",
          "text": [
            "Epoch 5/10, Loss: 0.1337, Time: 3.64s\n"
          ]
        },
        {
          "output_type": "stream",
          "name": "stderr",
          "text": [
            "Epoch 6/10: 100%|██████████| 79/79 [00:03<00:00, 21.60it/s, loss=0.00142]\n"
          ]
        },
        {
          "output_type": "stream",
          "name": "stdout",
          "text": [
            "Epoch 6/10, Loss: 0.1075, Time: 3.66s\n"
          ]
        },
        {
          "output_type": "stream",
          "name": "stderr",
          "text": [
            "Epoch 7/10: 100%|██████████| 79/79 [00:03<00:00, 21.78it/s, loss=0.00496]\n"
          ]
        },
        {
          "output_type": "stream",
          "name": "stdout",
          "text": [
            "Epoch 7/10, Loss: 0.0893, Time: 3.63s\n"
          ]
        },
        {
          "output_type": "stream",
          "name": "stderr",
          "text": [
            "Epoch 8/10: 100%|██████████| 79/79 [00:03<00:00, 21.92it/s, loss=0.241]\n"
          ]
        },
        {
          "output_type": "stream",
          "name": "stdout",
          "text": [
            "Epoch 8/10, Loss: 0.0892, Time: 3.61s\n"
          ]
        },
        {
          "output_type": "stream",
          "name": "stderr",
          "text": [
            "Epoch 9/10: 100%|██████████| 79/79 [00:03<00:00, 21.44it/s, loss=0.000587]\n"
          ]
        },
        {
          "output_type": "stream",
          "name": "stdout",
          "text": [
            "Epoch 9/10, Loss: 0.1143, Time: 3.69s\n"
          ]
        },
        {
          "output_type": "stream",
          "name": "stderr",
          "text": [
            "Epoch 10/10: 100%|██████████| 79/79 [00:03<00:00, 21.71it/s, loss=0.000796]\n"
          ]
        },
        {
          "output_type": "stream",
          "name": "stdout",
          "text": [
            "Epoch 10/10, Loss: 0.0614, Time: 3.64s\n",
            "Training complete\n"
          ]
        }
      ]
    },
    {
      "cell_type": "code",
      "source": [],
      "metadata": {
        "id": "9u5jIv8lRBKG"
      },
      "execution_count": 14,
      "outputs": []
    },
    {
      "cell_type": "markdown",
      "source": [
        "## Eval"
      ],
      "metadata": {
        "id": "hJrJHV47bLtE"
      }
    },
    {
      "cell_type": "markdown",
      "source": [
        "### Reload models"
      ],
      "metadata": {
        "id": "jkkH90jKyk5W"
      }
    },
    {
      "cell_type": "code",
      "source": [
        "# Find the latest alpha model\n",
        "list_of_files = glob.glob(f'{data_path}/models/model_alpha_dict_*.pkl')\n",
        "latest_alpha_model_file = max(list_of_files, key=os.path.getctime)\n",
        "\n",
        "# Find the latest normal model (assuming it's saved similarly but without 'alpha' in filename)\n",
        "list_of_files = glob.glob(f'{data_path}/models/model_alpha_*.pkl')\n",
        "latest_normal_model_file = max(list_of_files, key=os.path.getctime)\n",
        "\n",
        "# Load the models\n",
        "try:\n",
        "    with open(latest_alpha_model_file, \"rb\") as f:\n",
        "        latest_alpha_model = pickle.load(f)\n",
        "    print(f\"Loaded latest alpha model from: {latest_alpha_model_file}\")\n",
        "\n",
        "    with open(latest_normal_model_file, \"rb\") as f:\n",
        "        latest_normal_model = pickle.load(f)\n",
        "    print(f\"Loaded latest normal model from: {latest_normal_model_file}\")\n",
        "\n",
        "\n",
        "except FileNotFoundError:\n",
        "    print(f\"Error: Could not find model files in {data_path}/models/\")\n",
        "except Exception as e:\n",
        "    print(f\"An error occurred: {e}\")\n",
        "\n",
        "# Example usage (assuming you want to access the model itself):\n",
        "# Make sure to handle potential errors if the pickled files don't contain 'model' keys\n",
        "if 'model' in latest_alpha_model and 'model' in latest_normal_model:\n",
        "    model_alpha = latest_alpha_model['model']\n",
        "    model = latest_normal_model['model']\n",
        "\n",
        "else:\n",
        "    print(\"Error: 'model' key not found in one or both loaded model dictionaries.\")\n",
        "\n"
      ],
      "metadata": {
        "id": "QdZ7ogzbvOMk"
      },
      "execution_count": null,
      "outputs": []
    },
    {
      "cell_type": "markdown",
      "source": [
        "### Calculate Losses"
      ],
      "metadata": {
        "id": "Ni0C-mV2ypSf"
      }
    },
    {
      "cell_type": "code",
      "source": [
        "def calculate_losses(data_loader, data_loader_alpha, model, model_alpha, criterion):\n",
        "    model.eval()  # Set both models to evaluation mode\n",
        "    model_alpha.eval()\n",
        "\n",
        "    losses_model = []\n",
        "    losses_model_alpha = []\n",
        "\n",
        "    # Calculate losses for data_loader with model\n",
        "    for inputs, labels in data_loader:\n",
        "        inputs, labels = inputs.to(device), labels.to(device)\n",
        "        with torch.no_grad():\n",
        "            outputs = model(inputs)\n",
        "            loss = criterion(outputs, labels)\n",
        "            losses_model.append(loss.item())\n",
        "\n",
        "    # Calculate losses for data_loader_alpha with model_alpha\n",
        "    for inputs, labels in data_loader_alpha:\n",
        "        inputs, labels = inputs.to(device), labels.to(device)\n",
        "        with torch.no_grad():\n",
        "            outputs = model_alpha(inputs)\n",
        "            loss = criterion(outputs, labels)\n",
        "            losses_model_alpha.append(loss.item())\n",
        "\n",
        "    return losses_model, losses_model_alpha"
      ],
      "metadata": {
        "id": "I5QdFD_ubOQy"
      },
      "execution_count": 21,
      "outputs": []
    },
    {
      "cell_type": "code",
      "source": [
        "losses_model, losses_model_alpha = calculate_losses(test_loader, test_loader_alpha, model, model_alpha, nn.CrossEntropyLoss())"
      ],
      "metadata": {
        "id": "fLCr6BmLbSjl"
      },
      "execution_count": 22,
      "outputs": []
    },
    {
      "cell_type": "code",
      "source": [
        "def calculate_loss_deltas(data_loader, data_loader_alpha, model, model_alpha, criterion):\n",
        "    model.eval()  # Set both models to evaluation mode\n",
        "    model_alpha.eval()\n",
        "\n",
        "    loss_deltas = []\n",
        "\n",
        "    # Ensure the loaders have the same number of images\n",
        "    for (inputs1, labels1), (inputs2, labels2) in zip(data_loader, data_loader_alpha):\n",
        "        # Move inputs and labels to the device\n",
        "        inputs1, labels1 = inputs1.to(device), labels1.to(device)\n",
        "        inputs2, labels2 = inputs2.to(device), labels2.to(device)\n",
        "\n",
        "        with torch.no_grad():\n",
        "            # Get predictions from both models\n",
        "            outputs1 = model(inputs1)\n",
        "            outputs2 = model_alpha(inputs2)\n",
        "\n",
        "            # Compute per-sample losses\n",
        "            loss1 = torch.nn.functional.cross_entropy(outputs1, labels1, reduction='none')\n",
        "            loss2 = torch.nn.functional.cross_entropy(outputs2, labels2, reduction='none')\n",
        "\n",
        "            # Take the magnitude (absolute value) of the losses\n",
        "            loss1 = torch.abs(loss1)\n",
        "            loss2 = torch.abs(loss2)\n",
        "\n",
        "            # Compute delta between losses\n",
        "            batch_delta = (loss1 - loss2).cpu().tolist()\n",
        "            loss_deltas.extend(batch_delta)\n",
        "\n",
        "    return loss_deltas"
      ],
      "metadata": {
        "id": "NGkJaemaforK"
      },
      "execution_count": 23,
      "outputs": []
    },
    {
      "cell_type": "code",
      "source": [
        "loss_deltas = calculate_loss_deltas(test_loader, test_loader_alpha, model, model_alpha, nn.CrossEntropyLoss())"
      ],
      "metadata": {
        "id": "b_TUXQKsfqVX"
      },
      "execution_count": 24,
      "outputs": []
    },
    {
      "cell_type": "code",
      "source": [
        "np.mean(loss_deltas), np.mean(losses_model), np.mean(losses_model_alpha),np.mean(losses_model) - np.mean(losses_model_alpha)"
      ],
      "metadata": {
        "colab": {
          "base_uri": "https://localhost:8080/"
        },
        "id": "M8cghrXOgufu",
        "outputId": "ceb1ef0f-0747-413c-9396-d5ae65d660bc"
      },
      "execution_count": 25,
      "outputs": [
        {
          "output_type": "execute_result",
          "data": {
            "text/plain": [
              "(-0.12638101630575452,\n",
              " 1.048774955034256,\n",
              " 1.1777689542770386,\n",
              " -0.12899399924278265)"
            ]
          },
          "metadata": {},
          "execution_count": 25
        }
      ]
    }
  ]
}